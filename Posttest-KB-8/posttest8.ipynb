{
 "cells": [
  {
   "cell_type": "markdown",
   "id": "670edea4-e8f0-4811-b291-320183770d85",
   "metadata": {},
   "source": [
    "## Dimas Abdi Yudha\n",
    "## 2109106005\n",
    "## Informatika A'21 A1\n",
    "## Posttest 8 Deep Learning"
   ]
  },
  {
   "cell_type": "code",
   "execution_count": 1,
   "id": "e542573c-b0a5-4db6-ba79-905bf16117ad",
   "metadata": {},
   "outputs": [],
   "source": [
    "import numpy as np\n",
    "import tensorflow as tf\n",
    "from tensorflow.keras import Sequential\n",
    "from tensorflow.keras.layers import Dense\n",
    "import matplotlib.pyplot as plt\n",
    "import tensorflow_datasets as tfds"
   ]
  },
  {
   "cell_type": "markdown",
   "id": "0aa2448f-be47-4e94-99fe-034673de039c",
   "metadata": {},
   "source": [
    "## Klasifikasi Dataset"
   ]
  },
  {
   "cell_type": "code",
   "execution_count": 2,
   "id": "2a3dd904-fb07-46d2-bb3e-fda209af64dc",
   "metadata": {},
   "outputs": [],
   "source": [
    "(x_train_raw, y_train_raw),(x_test_raw, y_test_raw) = tfds.load(\"caltech101\", split=[\"train[:70%]\", \"train[:30%]\"], batch_size=-1, as_supervised=True)"
   ]
  },
  {
   "cell_type": "markdown",
   "id": "177304b1-f252-46d8-b331-cb51cb0bd34f",
   "metadata": {},
   "source": [
    "## Menampilkan gambar dataset"
   ]
  },
  {
   "cell_type": "code",
   "execution_count": 3,
   "id": "3cb3e206-c5c2-4a29-862e-04169ef9e38c",
   "metadata": {},
   "outputs": [
    {
     "data": {
      "text/plain": [
       "<function matplotlib.pyplot.show(close=None, block=None)>"
      ]
     },
     "execution_count": 3,
     "metadata": {},
     "output_type": "execute_result"
    },
    {
     "data": {
      "image/png": "[encoded data removed]",
      "text/plain": [
       "<Figure size 640x480 with 9 Axes>"
      ]
     },
     "metadata": {},
     "output_type": "display_data"
    }
   ],
   "source": [
    "for i in range(9):\n",
    "    plt.subplot(3,3,i+1)\n",
    "    plt.imshow(x_train_raw[i])\n",
    "    plt.axis('off')\n",
    "plt.show"
   ]
  },
  {
   "cell_type": "markdown",
   "id": "7157d517-f447-4c4c-9395-8f23fcd82424",
   "metadata": {},
   "source": [
    "## Melakukan Encoding"
   ]
  },
  {
   "cell_type": "code",
   "execution_count": 4,
   "id": "2aa738f0-4635-4c91-9a7f-795911af59f8",
   "metadata": {},
   "outputs": [],
   "source": [
    "num_class = 102\n",
    "y_train = tf.keras.utils.to_categorical(y_train_raw, num_class)\n",
    "y_test  = tf.keras.utils.to_categorical(y_test_raw, num_class)"
   ]
  },
  {
   "cell_type": "markdown",
   "id": "e4bacaf4-3a0d-45de-b428-67384b9423d3",
   "metadata": {},
   "source": [
    "## Menampilkan Shape"
   ]
  },
  {
   "cell_type": "code",
   "execution_count": 5,
   "id": "bedbf6e4-ebaa-4f6b-b866-0503b2a22487",
   "metadata": {},
   "outputs": [
    {
     "data": {
      "text/plain": [
       "TensorShape([2141, 919, 969, 3])"
      ]
     },
     "execution_count": 5,
     "metadata": {},
     "output_type": "execute_result"
    }
   ],
   "source": [
    "x_train_raw.shape"
   ]
  },
  {
   "cell_type": "code",
   "execution_count": 6,
   "id": "f2dd11e2-8688-4244-a6f6-cf021d04b504",
   "metadata": {},
   "outputs": [
    {
     "data": {
      "text/plain": [
       "TensorShape([918, 594, 623, 3])"
      ]
     },
     "execution_count": 6,
     "metadata": {},
     "output_type": "execute_result"
    }
   ],
   "source": [
    "x_test_raw.shape"
   ]
  },
  {
   "cell_type": "markdown",
   "id": "98a75ee1-3fe0-44ca-b94a-73adcc71c987",
   "metadata": {},
   "source": [
    "## Konversi 28x28 "
   ]
  },
  {
   "cell_type": "code",
   "execution_count": 7,
   "id": "7d712998-db32-494a-810e-16cc310216e9",
   "metadata": {},
   "outputs": [],
   "source": [
    "train = tf.image.resize(x_train_raw, (28, 28))\n",
    "test = tf.image.resize(x_test_raw, (28, 28))"
   ]
  },
  {
   "cell_type": "code",
   "execution_count": 8,
   "id": "f87349cb-fbb1-4d38-a0be-7330a44c13c4",
   "metadata": {},
   "outputs": [],
   "source": [
    "train = np.reshape(train.numpy(), (2141, 2352))\n",
    "test = np.reshape(test.numpy(), (918, 2352))"
   ]
  },
  {
   "cell_type": "markdown",
   "id": "2294a6d3-3649-4146-bfb7-14e7d777cdcd",
   "metadata": {},
   "source": [
    "## Normalisasi Pixel"
   ]
  },
  {
   "cell_type": "code",
   "execution_count": 9,
   "id": "17f89d4e-e2fc-4ae1-8eed-441a77f563a6",
   "metadata": {},
   "outputs": [],
   "source": [
    "train = train.astype('float32')/255\n",
    "test = test.astype('float32')/255"
   ]
  },
  {
   "cell_type": "markdown",
   "id": "3f7f60ef-affa-4423-abd7-4f976723202b",
   "metadata": {
    "tags": []
   },
   "source": [
    "## Membuat DNN"
   ]
  },
  {
   "cell_type": "code",
   "execution_count": 37,
   "id": "c0a40b96-0bbb-47af-9f3a-e8b7333ff5bc",
   "metadata": {},
   "outputs": [],
   "source": [
    "model = Sequential(\n",
    "    [\n",
    "        Dense(512, activation = 'relu', input_dim = (2352)),\n",
    "        Dense(256, activation = 'relu'),\n",
    "        Dense(102, activation = 'softmax')\n",
    "    ]\n",
    ")"
   ]
  },
  {
   "cell_type": "markdown",
   "id": "5a527398-ef8a-48f1-82da-42d6b43e98c1",
   "metadata": {},
   "source": [
    "## Summary Model"
   ]
  },
  {
   "cell_type": "code",
   "execution_count": 38,
   "id": "b54ba6cd-04ff-4699-934f-05d995c79dff",
   "metadata": {},
   "outputs": [
    {
     "name": "stdout",
     "output_type": "stream",
     "text": [
      "Model: \"sequential_3\"\n",
      "_________________________________________________________________\n",
      " Layer (type)                Output Shape              Param #   \n",
      "=================================================================\n",
      " dense_10 (Dense)            (None, 512)               1204736   \n",
      "                                                                 \n",
      " dense_11 (Dense)            (None, 256)               131328    \n",
      "                                                                 \n",
      " dense_12 (Dense)            (None, 102)               26214     \n",
      "                                                                 \n",
      "=================================================================\n",
      "Total params: 1,362,278\n",
      "Trainable params: 1,362,278\n",
      "Non-trainable params: 0\n",
      "_________________________________________________________________\n"
     ]
    }
   ],
   "source": [
    "model.summary()"
   ]
  },
  {
   "cell_type": "markdown",
   "id": "41b731b8-538d-4358-b24b-582efdc6a946",
   "metadata": {},
   "source": [
    "## Model Optimizer"
   ]
  },
  {
   "cell_type": "code",
   "execution_count": 42,
   "id": "28817731-37c0-41ed-915f-df02edec7e9c",
   "metadata": {},
   "outputs": [],
   "source": [
    "model.compile(optimizer='sgd', loss='categorical_crossentropy', metrics=['accuracy'])"
   ]
  },
  {
   "cell_type": "markdown",
   "id": "856f0887-b621-466f-a457-e36873551dca",
   "metadata": {},
   "source": [
    "## Fitting dan training model"
   ]
  },
  {
   "cell_type": "code",
   "execution_count": 43,
   "id": "80eb55f8-0906-42ce-98b6-79c76ae5f74c",
   "metadata": {},
   "outputs": [
    {
     "name": "stdout",
     "output_type": "stream",
     "text": [
      "Epoch 1/40\n",
      "67/67 [==============================] - 2s 19ms/step - loss: 0.0600 - accuracy: 0.9972 - val_loss: 40.1164 - val_accuracy: 0.0087\n",
      "Epoch 2/40\n",
      "67/67 [==============================] - 1s 15ms/step - loss: 0.0464 - accuracy: 0.9991 - val_loss: 40.1113 - val_accuracy: 0.0087\n",
      "Epoch 3/40\n",
      "67/67 [==============================] - 1s 12ms/step - loss: 0.0433 - accuracy: 1.0000 - val_loss: 40.1475 - val_accuracy: 0.0087\n",
      "Epoch 4/40\n",
      "67/67 [==============================] - 1s 11ms/step - loss: 0.0416 - accuracy: 1.0000 - val_loss: 40.1831 - val_accuracy: 0.0087\n",
      "Epoch 5/40\n",
      "67/67 [==============================] - 1s 12ms/step - loss: 0.0404 - accuracy: 1.0000 - val_loss: 40.2469 - val_accuracy: 0.0087\n",
      "Epoch 6/40\n",
      "67/67 [==============================] - 1s 13ms/step - loss: 0.0396 - accuracy: 1.0000 - val_loss: 40.3008 - val_accuracy: 0.0087\n",
      "Epoch 7/40\n",
      "67/67 [==============================] - 1s 12ms/step - loss: 0.0388 - accuracy: 1.0000 - val_loss: 40.3475 - val_accuracy: 0.0087\n",
      "Epoch 8/40\n",
      "67/67 [==============================] - 1s 12ms/step - loss: 0.0382 - accuracy: 1.0000 - val_loss: 40.3951 - val_accuracy: 0.0087\n",
      "Epoch 9/40\n",
      "67/67 [==============================] - 1s 12ms/step - loss: 0.0377 - accuracy: 1.0000 - val_loss: 40.4443 - val_accuracy: 0.0087\n",
      "Epoch 10/40\n",
      "67/67 [==============================] - 1s 12ms/step - loss: 0.0373 - accuracy: 1.0000 - val_loss: 40.4670 - val_accuracy: 0.0087\n",
      "Epoch 11/40\n",
      "67/67 [==============================] - 1s 12ms/step - loss: 0.0369 - accuracy: 1.0000 - val_loss: 40.5104 - val_accuracy: 0.0087\n",
      "Epoch 12/40\n",
      "67/67 [==============================] - 1s 12ms/step - loss: 0.0365 - accuracy: 1.0000 - val_loss: 40.5581 - val_accuracy: 0.0087\n",
      "Epoch 13/40\n",
      "67/67 [==============================] - 1s 12ms/step - loss: 0.0361 - accuracy: 1.0000 - val_loss: 40.5862 - val_accuracy: 0.0087\n",
      "Epoch 14/40\n",
      "67/67 [==============================] - 1s 12ms/step - loss: 0.0358 - accuracy: 1.0000 - val_loss: 40.6274 - val_accuracy: 0.0087\n",
      "Epoch 15/40\n",
      "67/67 [==============================] - 1s 13ms/step - loss: 0.0354 - accuracy: 1.0000 - val_loss: 40.6413 - val_accuracy: 0.0087\n",
      "Epoch 16/40\n",
      "67/67 [==============================] - 1s 13ms/step - loss: 0.0351 - accuracy: 1.0000 - val_loss: 40.6814 - val_accuracy: 0.0087\n",
      "Epoch 17/40\n",
      "67/67 [==============================] - 1s 12ms/step - loss: 0.0348 - accuracy: 1.0000 - val_loss: 40.7048 - val_accuracy: 0.0087\n",
      "Epoch 18/40\n",
      "67/67 [==============================] - 1s 11ms/step - loss: 0.0346 - accuracy: 1.0000 - val_loss: 40.7411 - val_accuracy: 0.0087\n",
      "Epoch 19/40\n",
      "67/67 [==============================] - 1s 13ms/step - loss: 0.0343 - accuracy: 1.0000 - val_loss: 40.7666 - val_accuracy: 0.0087\n",
      "Epoch 20/40\n",
      "67/67 [==============================] - 1s 12ms/step - loss: 0.0341 - accuracy: 1.0000 - val_loss: 40.7942 - val_accuracy: 0.0087\n",
      "Epoch 21/40\n",
      "67/67 [==============================] - 1s 12ms/step - loss: 0.0338 - accuracy: 1.0000 - val_loss: 40.8119 - val_accuracy: 0.0087\n",
      "Epoch 22/40\n",
      "67/67 [==============================] - 1s 12ms/step - loss: 0.0337 - accuracy: 1.0000 - val_loss: 40.8271 - val_accuracy: 0.0087\n",
      "Epoch 23/40\n",
      "67/67 [==============================] - 1s 12ms/step - loss: 0.0334 - accuracy: 1.0000 - val_loss: 40.8650 - val_accuracy: 0.0087\n",
      "Epoch 24/40\n",
      "67/67 [==============================] - 1s 12ms/step - loss: 0.0332 - accuracy: 1.0000 - val_loss: 40.8868 - val_accuracy: 0.0087\n",
      "Epoch 25/40\n",
      "67/67 [==============================] - 1s 11ms/step - loss: 0.0330 - accuracy: 1.0000 - val_loss: 40.9065 - val_accuracy: 0.0087\n",
      "Epoch 26/40\n",
      "67/67 [==============================] - 1s 11ms/step - loss: 0.0327 - accuracy: 1.0000 - val_loss: 40.9198 - val_accuracy: 0.0087\n",
      "Epoch 27/40\n",
      "67/67 [==============================] - 1s 11ms/step - loss: 0.0326 - accuracy: 1.0000 - val_loss: 40.9526 - val_accuracy: 0.0087\n",
      "Epoch 28/40\n",
      "67/67 [==============================] - 1s 11ms/step - loss: 0.0324 - accuracy: 1.0000 - val_loss: 40.9585 - val_accuracy: 0.0087\n",
      "Epoch 29/40\n",
      "67/67 [==============================] - 1s 11ms/step - loss: 0.0322 - accuracy: 1.0000 - val_loss: 40.9857 - val_accuracy: 0.0087\n",
      "Epoch 30/40\n",
      "67/67 [==============================] - 1s 11ms/step - loss: 0.0321 - accuracy: 1.0000 - val_loss: 40.9780 - val_accuracy: 0.0087\n",
      "Epoch 31/40\n",
      "67/67 [==============================] - 1s 11ms/step - loss: 0.0319 - accuracy: 1.0000 - val_loss: 41.0035 - val_accuracy: 0.0087\n",
      "Epoch 32/40\n",
      "67/67 [==============================] - 1s 11ms/step - loss: 0.0317 - accuracy: 1.0000 - val_loss: 41.0323 - val_accuracy: 0.0087\n",
      "Epoch 33/40\n",
      "67/67 [==============================] - 1s 11ms/step - loss: 0.0315 - accuracy: 1.0000 - val_loss: 41.0482 - val_accuracy: 0.0087\n",
      "Epoch 34/40\n",
      "67/67 [==============================] - 1s 11ms/step - loss: 0.0313 - accuracy: 1.0000 - val_loss: 41.0672 - val_accuracy: 0.0087\n",
      "Epoch 35/40\n",
      "67/67 [==============================] - 1s 11ms/step - loss: 0.0311 - accuracy: 1.0000 - val_loss: 41.0851 - val_accuracy: 0.0087\n",
      "Epoch 36/40\n",
      "67/67 [==============================] - 1s 11ms/step - loss: 0.0310 - accuracy: 1.0000 - val_loss: 41.0963 - val_accuracy: 0.0087\n",
      "Epoch 37/40\n",
      "67/67 [==============================] - 1s 12ms/step - loss: 0.0309 - accuracy: 1.0000 - val_loss: 41.1016 - val_accuracy: 0.0087\n",
      "Epoch 38/40\n",
      "67/67 [==============================] - 1s 12ms/step - loss: 0.0306 - accuracy: 1.0000 - val_loss: 41.1311 - val_accuracy: 0.0087\n",
      "Epoch 39/40\n",
      "67/67 [==============================] - 1s 11ms/step - loss: 0.0305 - accuracy: 1.0000 - val_loss: 41.1260 - val_accuracy: 0.0087\n",
      "Epoch 40/40\n",
      "67/67 [==============================] - 1s 10ms/step - loss: 0.0303 - accuracy: 1.0000 - val_loss: 41.1452 - val_accuracy: 0.0087\n"
     ]
    }
   ],
   "source": [
    "fit = model.fit(train, y_train, batch_size=32, epochs=40, validation_data=(test, y_test))"
   ]
  },
  {
   "cell_type": "markdown",
   "id": "775605dd-3b16-41dc-a1fb-7368bd09a328",
   "metadata": {},
   "source": [
    "## Evaluasi Data Seteleah Proses Training"
   ]
  },
  {
   "cell_type": "code",
   "execution_count": 41,
   "id": "b46cb0f9-eb9c-48c9-9933-a13e1f722b91",
   "metadata": {},
   "outputs": [
    {
     "name": "stdout",
     "output_type": "stream",
     "text": [
      "29/29 [==============================] - 0s 6ms/step - loss: 40.1989 - accuracy: 0.0076\n",
      "TEST LOSS           :  40.19894790649414\n",
      "TEST ACCURACY       :  0.007625272497534752\n",
      "VALIDATION LOSS     :  40.19894790649414\n",
      "VALIDATION ACCURACY :  0.007625272497534752\n"
     ]
    }
   ],
   "source": [
    "score = model.evaluate(test, y_test)\n",
    "print(\"TEST LOSS           : \", score [0])\n",
    "print(\"TEST ACCURACY       : \", score [1])\n",
    "print(\"VALIDATION LOSS     : \", fit.history['val_loss'][-1])\n",
    "print(\"VALIDATION ACCURACY : \", fit.history['val_accuracy'][-1])"
   ]
  },
  {
   "cell_type": "code",
   "execution_count": null,
   "id": "049f7521-4e6a-4f79-b071-a6fd6fb11db5",
   "metadata": {},
   "outputs": [],
   "source": []
  },
  {
   "cell_type": "code",
   "execution_count": null,
   "id": "4f1db305-06c7-4ac3-8a5b-ec1fe60b5d68",
   "metadata": {},
   "outputs": [],
   "source": []
  }
 ],
 "metadata": {
  "kernelspec": {
   "display_name": "Dimas_005",
   "language": "python",
   "name": "dimas_005"
  },
  "language_info": {
   "codemirror_mode": {
    "name": "ipython",
    "version": 3
   },
   "file_extension": ".py",
   "mimetype": "text/x-python",
   "name": "python",
   "nbconvert_exporter": "python",
   "pygments_lexer": "ipython3",
   "version": "3.10.7"
  }
 },
 "nbformat": 4,
 "nbformat_minor": 5
}
