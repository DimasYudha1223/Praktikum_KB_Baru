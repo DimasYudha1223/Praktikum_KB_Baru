{
 "cells": [
  {
   "cell_type": "markdown",
   "id": "6e0da276-0a4b-4631-b7a7-8bebce1f9b60",
   "metadata": {},
   "source": [
    "# Dimas Abdi Yudha\n",
    "# Informatika A'21 A1\n",
    "# 2109106005"
   ]
  },
  {
   "cell_type": "markdown",
   "id": "c4520838-4df7-4670-8ec8-3021f361720b",
   "metadata": {},
   "source": [
    "## Mengimport/Memanggil Library Tensor Flow"
   ]
  },
  {
   "cell_type": "code",
   "execution_count": 2,
   "id": "53c23467-b432-4ab9-a3fb-e0448ada1f67",
   "metadata": {},
   "outputs": [],
   "source": [
    "import tensorflow as tf"
   ]
  },
  {
   "cell_type": "markdown",
   "id": "ef62593a-ea34-401a-832f-d8a631784efa",
   "metadata": {},
   "source": [
    "## Membuat variabel random tensor dan prime tensor"
   ]
  },
  {
   "cell_type": "markdown",
   "id": "e47c33fd-88a3-4d14-ad22-b7c3535db11f",
   "metadata": {},
   "source": [
    "### Random dengan shape 5,5"
   ]
  },
  {
   "cell_type": "code",
   "execution_count": 3,
   "id": "2722d8b0-6d3e-46b1-9b4a-350cdac148bc",
   "metadata": {},
   "outputs": [
    {
     "data": {
      "text/plain": [
       "array([[ 1.1886818 ,  3.4845986 ,  2.0653293 , -0.4427042 ,  2.0992484 ],\n",
       "       [ 2.5912242 ,  2.592823  , -0.12292957,  1.2771027 ,  1.9437296 ],\n",
       "       [ 2.6435447 ,  1.7356759 ,  3.8566332 ,  2.5678418 ,  1.6171641 ],\n",
       "       [ 0.51465666,  3.2617712 ,  1.9746939 ,  1.7353703 ,  3.5328138 ],\n",
       "       [ 0.25702286,  1.5621071 ,  1.43399   ,  2.3206692 ,  3.132831  ]],\n",
       "      dtype=float32)"
      ]
     },
     "execution_count": 3,
     "metadata": {},
     "output_type": "execute_result"
    }
   ],
   "source": [
    "randomtensor = tf.random.normal([5,5], mean = 2, stddev = 1, seed = 1)\n",
    "randomtensor.numpy()"
   ]
  },
  {
   "cell_type": "markdown",
   "id": "22a61b02-2360-4d4b-b3a6-42b0ffd92c82",
   "metadata": {},
   "source": [
    "### Prime tensor dengan isi list bilangan prima"
   ]
  },
  {
   "cell_type": "code",
   "execution_count": 5,
   "id": "9a679dee-2e60-4b46-8ddd-35e99a6f3d7d",
   "metadata": {},
   "outputs": [
    {
     "data": {
      "text/plain": [
       "array([[  2.,   3.,   5.,   7.,  11.],\n",
       "       [ 13.,  17.,  19.,  23.,  29.],\n",
       "       [ 31.,  37.,  41.,  43.,  47.],\n",
       "       [ 53.,  59.,  61.,  71.,  73.],\n",
       "       [ 79.,  83.,  89.,  97., 101.]], dtype=float32)"
      ]
     },
     "execution_count": 5,
     "metadata": {},
     "output_type": "execute_result"
    }
   ],
   "source": [
    "primetensor = tf.constant([2,3,5,7,11,13,17,19,23,29,31,37,41,43,47,53,59,61,71,73,79,83,89,97,101],shape=(5,5),dtype=tf.float32)\n",
    "primetensor.numpy()"
   ]
  },
  {
   "cell_type": "markdown",
   "id": "eaeb7526-c7d7-46e8-9ebb-612449b36a27",
   "metadata": {},
   "source": [
    "## Dimensi dari random dan prime tensor"
   ]
  },
  {
   "cell_type": "code",
   "execution_count": 7,
   "id": "cc967a4a-9c28-4fde-9324-c790eccda2fa",
   "metadata": {},
   "outputs": [
    {
     "name": "stdout",
     "output_type": "stream",
     "text": [
      "random tensor :  (5, 5)\n",
      "prime tensor  :  (5, 5)\n"
     ]
    }
   ],
   "source": [
    "print(\"random tensor : \", randomtensor.shape)\n",
    "print(\"prime tensor  : \", primetensor.shape)"
   ]
  },
  {
   "cell_type": "markdown",
   "id": "f18de6a5-d7e5-4d43-90a2-357deea4dcb3",
   "metadata": {},
   "source": [
    "## Perhitungan Aritmatik Tensor Flow"
   ]
  },
  {
   "cell_type": "code",
   "execution_count": 9,
   "id": "62a119f1-5efd-4133-bab1-9153c3b2ae21",
   "metadata": {},
   "outputs": [
    {
     "name": "stdout",
     "output_type": "stream",
     "text": [
      "Penjumlahan :\n",
      " [[  3.1886818   6.4845986   7.0653296   6.557296   13.099249 ]\n",
      " [ 15.591225   19.592823   18.877071   24.277103   30.94373  ]\n",
      " [ 33.643543   38.735676   44.856632   45.56784    48.617165 ]\n",
      " [ 53.514656   62.261772   62.974693   72.73537    76.532814 ]\n",
      " [ 79.25702    84.5621     90.43399    99.32067   104.13283  ]]\n"
     ]
    }
   ],
   "source": [
    "print(\"penjumlahan :\\n\", tf.add(randomtensor,primetensor).numpy())"
   ]
  },
  {
   "cell_type": "code",
   "execution_count": 10,
   "id": "23b38720-8d27-4e11-a0e9-fc4e49c7c763",
   "metadata": {},
   "outputs": [
    {
     "name": "stdout",
     "output_type": "stream",
     "text": [
      "Pengurangan :\n",
      " [[ -0.81131816   0.48459864  -2.9346707   -7.442704    -8.900751  ]\n",
      " [-10.408775   -14.407177   -19.122929   -21.722897   -27.05627   ]\n",
      " [-28.356455   -35.264324   -37.143368   -40.43216    -45.382835  ]\n",
      " [-52.485344   -55.738228   -59.025307   -69.26463    -69.467186  ]\n",
      " [-78.74298    -81.4379     -87.56601    -94.67933    -97.86717   ]]\n"
     ]
    }
   ],
   "source": [
    "print(\"pengurangan :\\n\", tf.subtract(randomtensor,primetensor).numpy())"
   ]
  },
  {
   "cell_type": "code",
   "execution_count": 11,
   "id": "d170f95d-9284-4547-a9c3-9c44d4310aef",
   "metadata": {},
   "outputs": [
    {
     "name": "stdout",
     "output_type": "stream",
     "text": [
      "Perkalian matriks :\n",
      " [[254.07965 287.33948 316.65744 349.4708  390.906  ]\n",
      " [256.3194  283.9819  308.07486 351.70358 387.46283]\n",
      " [411.25812 465.85983 504.88348 563.44226 611.46136]\n",
      " [475.71478 525.66815 565.7874  629.4294  676.55945]\n",
      " [435.76425 477.32898 510.14154 568.0413  601.3507 ]]\n"
     ]
    }
   ],
   "source": [
    "print(\"perkalian matriks :\\n\", tf.matmul(randomtensor,primetensor).numpy())"
   ]
  },
  {
   "cell_type": "code",
   "execution_count": 12,
   "id": "e1706dc7-603b-45d9-b157-f9f36a36a40a",
   "metadata": {},
   "outputs": [
    {
     "name": "stdout",
     "output_type": "stream",
     "text": [
      "perkalian :\n",
      " [[  2.3773637  10.453796   10.326647   -3.0989294  23.091732 ]\n",
      " [ 33.685913   44.07799    -2.335662   29.373362   56.36816  ]\n",
      " [ 81.94988    64.22001   158.12196   110.4172     76.006714 ]\n",
      " [ 27.276804  192.4445    120.45633   123.21129   257.89542  ]\n",
      " [ 20.304806  129.65489   127.62511   225.1049    316.41595  ]]\n"
     ]
    }
   ],
   "source": [
    "print(\"perkalian :\\n\", tf.multiply(randomtensor,primetensor).numpy())"
   ]
  },
  {
   "cell_type": "code",
   "execution_count": 13,
   "id": "935aae74-8156-4ab2-987f-f4177f1d0ca3",
   "metadata": {},
   "outputs": [
    {
     "name": "stdout",
     "output_type": "stream",
     "text": [
      "pembagian :\n",
      " [[ 0.5943409   1.1615329   0.41306585 -0.06324346  0.19084077]\n",
      " [ 0.19932494  0.152519   -0.00646998  0.0555262   0.06702516]\n",
      " [ 0.08527564  0.04691016  0.09406422  0.05971725  0.03440775]\n",
      " [ 0.0097105   0.05528426  0.03237203  0.02444183  0.04839471]\n",
      " [ 0.00325345  0.01882057  0.01611225  0.02392443  0.03101813]]\n"
     ]
    }
   ],
   "source": [
    "print(\"pembagian :\\n\", tf.divide(randomtensor,primetensor).numpy())"
   ]
  },
  {
   "cell_type": "code",
   "execution_count": 14,
   "id": "d2389978-c4cf-4809-ae0a-fb01e090d1dc",
   "metadata": {},
   "outputs": [
    {
     "name": "stdout",
     "output_type": "stream",
     "text": [
      "perpangkatan :\n",
      " [[ 1.41296446e+00  4.23114853e+01  3.75791130e+01 -3.33269453e-03\n",
      "   3.48900952e+03]\n",
      " [ 2.37446000e+05  1.08177980e+07 -5.05208996e-18  2.77455933e+02\n",
      "   2.34660432e+08]\n",
      " [ 1.22401367e+13  7.25002880e+08  1.08278367e+24  4.08728707e+17\n",
      "   6.47802675e+09]\n",
      " [ 5.13372693e-16  1.96678162e+30  1.06044165e+18  9.92757123e+16\n",
      "              inf]\n",
      " [ 0.00000000e+00  1.19673122e+16  8.56258689e+13  2.91396052e+35\n",
      "              inf]]\n"
     ]
    }
   ],
   "source": [
    "print(\"perpangkatan :\\n\", tf.pow(randomtensor,primetensor).numpy())"
   ]
  },
  {
   "cell_type": "markdown",
   "id": "b00a9910-a2b0-40d1-8cab-d614ff504bd7",
   "metadata": {},
   "source": [
    "## Nilai maks dan min tensor random"
   ]
  },
  {
   "cell_type": "code",
   "execution_count": 22,
   "id": "80d824ea-b9c3-4622-b930-c7210dc94e6a",
   "metadata": {},
   "outputs": [
    {
     "name": "stdout",
     "output_type": "stream",
     "text": [
      "maksimal :  3.8566332\n",
      "minimal  :  -0.4427042\n"
     ]
    }
   ],
   "source": [
    "print(\"maksimal : \", tf.reduce_max(randomtensor).numpy())\n",
    "print(\"minimal  : \", tf.reduce_min(randomtensor).numpy())"
   ]
  },
  {
   "cell_type": "markdown",
   "id": "580a5289-34d7-49cc-acd6-9aa5b56be9e6",
   "metadata": {},
   "source": [
    "## Penggabungan random dan prime"
   ]
  },
  {
   "cell_type": "code",
   "execution_count": 23,
   "id": "2c3c9229-5068-41f3-8ff4-5e56917e2d64",
   "metadata": {},
   "outputs": [
    {
     "data": {
      "text/plain": [
       "array([[  1.1886818 ,   3.4845986 ,   2.0653293 ,  -0.4427042 ,\n",
       "          2.0992484 ,   2.        ,   3.        ,   5.        ,\n",
       "          7.        ,  11.        ],\n",
       "       [  2.5912242 ,   2.592823  ,  -0.12292957,   1.2771027 ,\n",
       "          1.9437296 ,  13.        ,  17.        ,  19.        ,\n",
       "         23.        ,  29.        ],\n",
       "       [  2.6435447 ,   1.7356759 ,   3.8566332 ,   2.5678418 ,\n",
       "          1.6171641 ,  31.        ,  37.        ,  41.        ,\n",
       "         43.        ,  47.        ],\n",
       "       [  0.51465666,   3.2617712 ,   1.9746939 ,   1.7353703 ,\n",
       "          3.5328138 ,  53.        ,  59.        ,  61.        ,\n",
       "         71.        ,  73.        ],\n",
       "       [  0.25702286,   1.5621071 ,   1.43399   ,   2.3206692 ,\n",
       "          3.132831  ,  79.        ,  83.        ,  89.        ,\n",
       "         97.        , 101.        ]], dtype=float32)"
      ]
     },
     "execution_count": 23,
     "metadata": {},
     "output_type": "execute_result"
    }
   ],
   "source": [
    "concat = tf.concat([randomtensor,primetensor], axis = 1)\n",
    "concat.numpy()"
   ]
  },
  {
   "cell_type": "markdown",
   "id": "27155c5b-769e-4680-8c01-2607972f0d43",
   "metadata": {},
   "source": [
    "## Sorting random dan prime dan gabungan kedua variabel"
   ]
  },
  {
   "cell_type": "markdown",
   "id": "2b2adfe2-727f-4d60-9098-9ad68f6cb20a",
   "metadata": {},
   "source": [
    "## random"
   ]
  },
  {
   "cell_type": "code",
   "execution_count": 24,
   "id": "31e60b8a-a250-41a1-9367-063d044484a2",
   "metadata": {},
   "outputs": [
    {
     "data": {
      "text/plain": [
       "array([[ 3.4845986 ,  2.0992484 ,  2.0653293 ,  1.1886818 , -0.4427042 ],\n",
       "       [ 2.592823  ,  2.5912242 ,  1.9437296 ,  1.2771027 , -0.12292957],\n",
       "       [ 3.8566332 ,  2.6435447 ,  2.5678418 ,  1.7356759 ,  1.6171641 ],\n",
       "       [ 3.5328138 ,  3.2617712 ,  1.9746939 ,  1.7353703 ,  0.51465666],\n",
       "       [ 3.132831  ,  2.3206692 ,  1.5621071 ,  1.43399   ,  0.25702286]],\n",
       "      dtype=float32)"
      ]
     },
     "execution_count": 24,
     "metadata": {},
     "output_type": "execute_result"
    }
   ],
   "source": [
    "sortrandom = tf.sort(randomtensor, direction = 'DESCENDING')\n",
    "sortrandom.numpy()"
   ]
  },
  {
   "cell_type": "markdown",
   "id": "c73b3df5-e306-4d76-b97a-6278634414f9",
   "metadata": {},
   "source": [
    "## prime"
   ]
  },
  {
   "cell_type": "code",
   "execution_count": 25,
   "id": "903cddc5-4784-45b8-b535-bd619baf7f06",
   "metadata": {},
   "outputs": [
    {
     "data": {
      "text/plain": [
       "array([[ 11.,   7.,   5.,   3.,   2.],\n",
       "       [ 29.,  23.,  19.,  17.,  13.],\n",
       "       [ 47.,  43.,  41.,  37.,  31.],\n",
       "       [ 73.,  71.,  61.,  59.,  53.],\n",
       "       [101.,  97.,  89.,  83.,  79.]], dtype=float32)"
      ]
     },
     "execution_count": 25,
     "metadata": {},
     "output_type": "execute_result"
    }
   ],
   "source": [
    "sortprime = tf.sort(primetensor, direction = 'DESCENDING')\n",
    "sortprime.numpy()"
   ]
  },
  {
   "cell_type": "markdown",
   "id": "2c5e1161-94eb-4c4f-95ce-5f0c52d48bea",
   "metadata": {},
   "source": [
    "## Penggabungan duu  variabel"
   ]
  },
  {
   "cell_type": "code",
   "execution_count": 26,
   "id": "5811cce6-54e6-4507-b224-6063879c293d",
   "metadata": {},
   "outputs": [
    {
     "data": {
      "text/plain": [
       "array([[ 11.        ,   7.        ,   5.        ,   3.4845986 ,\n",
       "          3.        ,   2.0992484 ,   2.0653293 ,   2.        ,\n",
       "          1.1886818 ,  -0.4427042 ],\n",
       "       [ 29.        ,  23.        ,  19.        ,  17.        ,\n",
       "         13.        ,   2.592823  ,   2.5912242 ,   1.9437296 ,\n",
       "          1.2771027 ,  -0.12292957],\n",
       "       [ 47.        ,  43.        ,  41.        ,  37.        ,\n",
       "         31.        ,   3.8566332 ,   2.6435447 ,   2.5678418 ,\n",
       "          1.7356759 ,   1.6171641 ],\n",
       "       [ 73.        ,  71.        ,  61.        ,  59.        ,\n",
       "         53.        ,   3.5328138 ,   3.2617712 ,   1.9746939 ,\n",
       "          1.7353703 ,   0.51465666],\n",
       "       [101.        ,  97.        ,  89.        ,  83.        ,\n",
       "         79.        ,   3.132831  ,   2.3206692 ,   1.5621071 ,\n",
       "          1.43399   ,   0.25702286]], dtype=float32)"
      ]
     },
     "execution_count": 26,
     "metadata": {},
     "output_type": "execute_result"
    }
   ],
   "source": [
    "sort_concat  = tf.sort(concat, direction = 'DESCENDING')\n",
    "sort_concat.numpy()"
   ]
  },
  {
   "cell_type": "code",
   "execution_count": null,
   "id": "ea6bc952-098f-4c6d-aaad-1b0a6fb45687",
   "metadata": {},
   "outputs": [],
   "source": []
  }
 ],
 "metadata": {
  "kernelspec": {
   "display_name": "Dimas_005",
   "language": "python",
   "name": "dimas_005"
  },
  "language_info": {
   "codemirror_mode": {
    "name": "ipython",
    "version": 3
   },
   "file_extension": ".py",
   "mimetype": "text/x-python",
   "name": "python",
   "nbconvert_exporter": "python",
   "pygments_lexer": "ipython3",
   "version": "3.10.7"
  }
 },
 "nbformat": 4,
 "nbformat_minor": 5
}
